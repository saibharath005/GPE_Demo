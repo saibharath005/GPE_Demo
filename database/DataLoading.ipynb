{
 "cells": [
  {
   "cell_type": "code",
   "execution_count": 1,
   "id": "978f2fe7",
   "metadata": {},
   "outputs": [],
   "source": [
    "# user=\"sancusadmin@sancus-core-db\"\n",
    "# password= \"Tredence@123\"\n",
    "# host=\"sancus-core-db.mysql.database.azure.com\"\n",
    "# port=\"3306\"\n",
    "# schema = \"GPE_DEV\""
   ]
  },
  {
   "cell_type": "code",
   "execution_count": 2,
   "id": "3ccf61ef",
   "metadata": {},
   "outputs": [],
   "source": [
    "user=\"test\"\n",
    "password= \"Tredence@123\"\n",
    "host=\"20.98.64.154\"\n",
    "port=\"3306\"\n",
    "schema = \"GPE_DEV\""
   ]
  },
  {
   "cell_type": "code",
   "execution_count": 3,
   "id": "0fb644f7",
   "metadata": {},
   "outputs": [],
   "source": [
    "from urllib.parse import quote\n",
    "import sqlalchemy as db\n",
    "from sqlalchemy.orm import sessionmaker\n",
    "import pandas as pd\n",
    "\n",
    "# user=\"sancusadmin@sancus-core-db\"\n",
    "# password= \"Tredence@123\"\n",
    "# host=\"sancus-core-db.mysql.database.azure.com\"\n",
    "# port=\"3306\"\n",
    "# schema = \"GPE_DEV\"\n",
    "# engine_conf = \"mysql+pymysql://test:%s@20.98.64.154:3306/GPE_DEMO\" % quote(password)\n",
    "engine_conf = f\"mysql+pymysql://{user}:%s@{host}:{port}/{schema}\" % quote(password)\n",
    "engine = db.create_engine(engine_conf)\n",
    "Session = sessionmaker(bind=engine)\n",
    "session = Session()"
   ]
  },
  {
   "cell_type": "code",
   "execution_count": 4,
   "id": "0dc39ed4",
   "metadata": {},
   "outputs": [],
   "source": [
    "user_df = pd.read_excel(\"Data.xlsx\",sheet_name=\"USER_INFO\",dtype=str)"
   ]
  },
  {
   "cell_type": "code",
   "execution_count": 5,
   "id": "90f83e46",
   "metadata": {},
   "outputs": [],
   "source": [
    "list_files = [\"USER_INFO\",\"VENDOR_INFO\",\"PRODUCTS_INFO\",\"PRICES_INFO\"]\n",
    "\n",
    "for sheet in list_files:\n",
    "    temp_df = pd.read_excel(\"Data.xlsx\",sheet_name=sheet,dtype=str)\n",
    "    temp_df.to_sql(sheet, con=engine,if_exists='append',chunksize=16000, index=False)"
   ]
  }
 ],
 "metadata": {
  "kernelspec": {
   "display_name": "Python 3 (ipykernel)",
   "language": "python",
   "name": "python3"
  },
  "language_info": {
   "codemirror_mode": {
    "name": "ipython",
    "version": 3
   },
   "file_extension": ".py",
   "mimetype": "text/x-python",
   "name": "python",
   "nbconvert_exporter": "python",
   "pygments_lexer": "ipython3",
   "version": "3.9.13"
  }
 },
 "nbformat": 4,
 "nbformat_minor": 5
}
